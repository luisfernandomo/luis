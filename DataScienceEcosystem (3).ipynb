{
 "cells": [
  {
   "cell_type": "code",
   "execution_count": 13,
   "id": "fc4116c2-66ee-418f-93a1-bfd78bca485d",
   "metadata": {},
   "outputs": [],
   "source": [
    "#Data Science Tools and Ecosystem#"
   ]
  },
  {
   "cell_type": "code",
   "execution_count": null,
   "id": "21550ca8-365c-47f3-83aa-00be0e9a4f77",
   "metadata": {},
   "outputs": [],
   "source": [
    "In this notebook, Data Science Tools and Ecosystem are summarized."
   ]
  },
  {
   "cell_type": "code",
   "execution_count": 9,
   "id": "3557ca9f-12a0-47b3-9b7d-f03a74894998",
   "metadata": {},
   "outputs": [
    {
     "ename": "SyntaxError",
     "evalue": "invalid syntax (195877664.py, line 1)",
     "output_type": "error",
     "traceback": [
      "\u001b[0;36m  File \u001b[0;32m\"/tmp/ipykernel_345/195877664.py\"\u001b[0;36m, line \u001b[0;32m1\u001b[0m\n\u001b[0;31m    Some of the popular languages that Data Scientists use are:\u001b[0m\n\u001b[0m          ^\u001b[0m\n\u001b[0;31mSyntaxError\u001b[0m\u001b[0;31m:\u001b[0m invalid syntax\n"
     ]
    }
   ],
   "source": [
    "Some of the popular languages that Data Scientists use are:\n",
    "    Phyton\n",
    "    R\n",
    "    SQL\n",
    "    "
   ]
  },
  {
   "cell_type": "code",
   "execution_count": 10,
   "id": "603c3afd-2cd1-42e2-a4d3-48a4c4e05e10",
   "metadata": {},
   "outputs": [
    {
     "ename": "SyntaxError",
     "evalue": "invalid syntax (958760448.py, line 1)",
     "output_type": "error",
     "traceback": [
      "\u001b[0;36m  File \u001b[0;32m\"/tmp/ipykernel_345/958760448.py\"\u001b[0;36m, line \u001b[0;32m1\u001b[0m\n\u001b[0;31m    Some of the commonly used libraries used by Data Scientists include:\u001b[0m\n\u001b[0m          ^\u001b[0m\n\u001b[0;31mSyntaxError\u001b[0m\u001b[0;31m:\u001b[0m invalid syntax\n"
     ]
    }
   ],
   "source": [
    "Some of the commonly used libraries used by Data Scientists include:\n",
    "    Apache Air Flow\n",
    "    Kube Flow\n",
    "    Apache Nifi\n",
    "    Node Red\n",
    "    Apache Kafka"
   ]
  },
  {
   "cell_type": "code",
   "execution_count": null,
   "id": "2ea0a94a-61f3-429a-9059-c03cd1cdfc64",
   "metadata": {},
   "outputs": [],
   "source": [
    "Data Science Tools"
   ]
  },
  {
   "cell_type": "code",
   "execution_count": 34,
   "id": "7358fdba-7cf0-4d5b-865c-6c3661021f7f",
   "metadata": {},
   "outputs": [
    {
     "data": {
      "text/html": [
       "<div>\n",
       "<style scoped>\n",
       "    .dataframe tbody tr th:only-of-type {\n",
       "        vertical-align: middle;\n",
       "    }\n",
       "\n",
       "    .dataframe tbody tr th {\n",
       "        vertical-align: top;\n",
       "    }\n",
       "\n",
       "    .dataframe thead th {\n",
       "        text-align: right;\n",
       "    }\n",
       "</style>\n",
       "<table border=\"1\" class=\"dataframe\">\n",
       "  <thead>\n",
       "    <tr style=\"text-align: right;\">\n",
       "      <th></th>\n",
       "      <th>ciencia</th>\n",
       "      <th>datos</th>\n",
       "    </tr>\n",
       "  </thead>\n",
       "  <tbody>\n",
       "    <tr>\n",
       "      <th>0</th>\n",
       "      <td>kibana</td>\n",
       "      <td>NaN</td>\n",
       "    </tr>\n",
       "    <tr>\n",
       "      <th>1</th>\n",
       "      <td>Seldon</td>\n",
       "      <td>NaN</td>\n",
       "    </tr>\n",
       "    <tr>\n",
       "      <th>2</th>\n",
       "      <td>Tensor flow</td>\n",
       "      <td>0.0</td>\n",
       "    </tr>\n",
       "  </tbody>\n",
       "</table>\n",
       "</div>"
      ],
      "text/plain": [
       "       ciencia  datos\n",
       "0       kibana    NaN\n",
       "1       Seldon    NaN\n",
       "2  Tensor flow    0.0"
      ]
     },
     "execution_count": 34,
     "metadata": {},
     "output_type": "execute_result"
    }
   ],
   "source": [
    "import pandas as pd\n",
    "tabla=pd.DataFrame(data = [['kibana'],['Seldon'],['Tensor flow',0]],\n",
    "                   columns =['ciencia','datos'])\n",
    "\n",
    "tabla"
   ]
  },
  {
   "cell_type": "code",
   "execution_count": null,
   "id": "d77d1712-344a-4a08-9d7b-9e36566541da",
   "metadata": {},
   "outputs": [],
   "source": [
    "###Below are a few examples of evaluating arithmetic expressions in Python###"
   ]
  },
  {
   "cell_type": "code",
   "execution_count": 45,
   "id": "b20e1d39-107a-4a39-b096-fe9772db2c6d",
   "metadata": {},
   "outputs": [
    {
     "data": {
      "text/plain": [
       "17"
      ]
     },
     "execution_count": 45,
     "metadata": {},
     "output_type": "execute_result"
    }
   ],
   "source": [
    "ecuacion=3\n",
    "valor=4\n",
    "variable=5\n",
    "(3*4)+5"
   ]
  },
  {
   "cell_type": "code",
   "execution_count": null,
   "id": "ea868ff3-72e2-44e6-9ce9-4ef56a28f0fe",
   "metadata": {},
   "outputs": [],
   "source": [
    "200 minutesen hours."
   ]
  },
  {
   "cell_type": "code",
   "execution_count": 47,
   "id": "b459c362-6247-4a3b-b1b1-f45d0ac73177",
   "metadata": {},
   "outputs": [
    {
     "data": {
      "text/plain": [
       "3.3333333333333335"
      ]
     },
     "execution_count": 47,
     "metadata": {},
     "output_type": "execute_result"
    }
   ],
   "source": [
    "minutos=200\n",
    "hora=60\n",
    "(200/60)"
   ]
  },
  {
   "cell_type": "code",
   "execution_count": null,
   "id": "62e1d0ee-336b-45c7-a459-4c5e1d864f60",
   "metadata": {},
   "outputs": [],
   "source": [
    "Objectives:"
   ]
  },
  {
   "cell_type": "code",
   "execution_count": null,
   "id": "c348ab61-7fea-4642-b639-8dd420c0c514",
   "metadata": {},
   "outputs": [],
   "source": [
    "######kkkkdkd"
   ]
  }
 ],
 "metadata": {
  "kernelspec": {
   "display_name": "Python",
   "language": "python",
   "name": "conda-env-python-py"
  },
  "language_info": {
   "codemirror_mode": {
    "name": "ipython",
    "version": 3
   },
   "file_extension": ".py",
   "mimetype": "text/x-python",
   "name": "python",
   "nbconvert_exporter": "python",
   "pygments_lexer": "ipython3",
   "version": "3.7.12"
  }
 },
 "nbformat": 4,
 "nbformat_minor": 5
}
