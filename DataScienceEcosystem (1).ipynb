{
 "cells": [
  {
   "cell_type": "code",
   "execution_count": null,
   "id": "fc4116c2-66ee-418f-93a1-bfd78bca485d",
   "metadata": {},
   "outputs": [],
   "source": [
    "#Data Science Tools and Ecosystem#"
   ]
  },
  {
   "cell_type": "code",
   "execution_count": null,
   "id": "21550ca8-365c-47f3-83aa-00be0e9a4f77",
   "metadata": {},
   "outputs": [],
   "source": [
    "In this notebook, Data Science Tools and Ecosystem are summarized."
   ]
  },
  {
   "cell_type": "code",
   "execution_count": null,
   "id": "3557ca9f-12a0-47b3-9b7d-f03a74894998",
   "metadata": {},
   "outputs": [],
   "source": [
    "Some of the popular languages that Data Scientists use are:\n",
    "    Phyton\n",
    "    R\n",
    "    SQL\n",
    "    "
   ]
  },
  {
   "cell_type": "code",
   "execution_count": null,
   "id": "603c3afd-2cd1-42e2-a4d3-48a4c4e05e10",
   "metadata": {},
   "outputs": [],
   "source": [
    "Some of the commonly used libraries used by Data Scientists include:\n",
    "    Apache Air Flow\n",
    "    Kube Flow\n",
    "    Apache Nifi\n",
    "    Node Red\n",
    "    Apache Kafka"
   ]
  },
  {
   "cell_type": "code",
   "execution_count": null,
   "id": "7358fdba-7cf0-4d5b-865c-6c3661021f7f",
   "metadata": {},
   "outputs": [],
   "source": []
  }
 ],
 "metadata": {
  "kernelspec": {
   "display_name": "Python",
   "language": "python",
   "name": "conda-env-python-py"
  },
  "language_info": {
   "codemirror_mode": {
    "name": "ipython",
    "version": 3
   },
   "file_extension": ".py",
   "mimetype": "text/x-python",
   "name": "python",
   "nbconvert_exporter": "python",
   "pygments_lexer": "ipython3",
   "version": "3.7.12"
  }
 },
 "nbformat": 4,
 "nbformat_minor": 5
}
